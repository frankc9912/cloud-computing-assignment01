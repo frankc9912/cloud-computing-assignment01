{
 "cells": [
  {
   "cell_type": "code",
   "execution_count": null,
   "metadata": {},
   "outputs": [],
   "source": [
    "# !pip install sqlalchemy psycopg2-binary geoalchemy2"
   ]
  },
  {
   "cell_type": "code",
   "execution_count": 12,
   "metadata": {},
   "outputs": [
    {
     "name": "stdout",
     "output_type": "stream",
     "text": [
      "Loaded ../data/indego-trips-2021-q3.csv into indego.trips_2021_q3\n",
      "Loaded ../data/indego-trips-2022-q3.csv into indego.trips_2022_q3\n",
      "All done.\n"
     ]
    }
   ],
   "source": [
    "import psycopg2\n",
    "\n",
    "# 1) Connect and set autocommit so DDL runs immediately\n",
    "conn = psycopg2.connect(\n",
    "    dbname='indego',\n",
    "    user='postgres',\n",
    "    password='cfcf133201',\n",
    "    host='localhost',\n",
    "    port='5432'\n",
    ")\n",
    "conn.autocommit = True\n",
    "\n",
    "with conn.cursor() as cur:\n",
    "    # 2) Ensure the schema exists\n",
    "    cur.execute(\"CREATE SCHEMA IF NOT EXISTS indego;\")\n",
    "    \n",
    "    # 3) Define table DDL (same for both quarters)\n",
    "    table_ddl = \"\"\"\n",
    "        trip_id TEXT,\n",
    "        duration INTEGER,\n",
    "        start_time TIMESTAMP,\n",
    "        end_time TIMESTAMP,\n",
    "        start_station TEXT,\n",
    "        start_lat FLOAT,\n",
    "        start_lon FLOAT,\n",
    "        end_station TEXT,\n",
    "        end_lat FLOAT,\n",
    "        end_lon FLOAT,\n",
    "        bike_id TEXT,\n",
    "        plan_duration INTEGER,\n",
    "        trip_route_category TEXT,\n",
    "        passholder_type TEXT,\n",
    "        bike_type TEXT\n",
    "    \"\"\"\n",
    "\n",
    "    # 4) Loop over Q3 2021 and Q3 2022\n",
    "    datasets = [\n",
    "        ('trips_2021_q3', '../data/indego-trips-2021-q3.csv'),\n",
    "        ('trips_2022_q3', '../data/indego-trips-2022-q3.csv'),\n",
    "    ]\n",
    "\n",
    "    for table_name, csv_path in datasets:\n",
    "        # a) Create table if it doesn't exist\n",
    "        cur.execute(f\"\"\"\n",
    "            CREATE TABLE IF NOT EXISTS indego.{table_name} (\n",
    "                {table_ddl}\n",
    "            );\n",
    "        \"\"\")\n",
    "        \n",
    "        # b) Load CSV via COPY\n",
    "        with open(csv_path, 'r') as f:\n",
    "            cur.copy_expert(\n",
    "                f\"COPY indego.{table_name} FROM STDIN WITH CSV HEADER\",\n",
    "                f\n",
    "            )\n",
    "        print(f\"Loaded {csv_path} into indego.{table_name}\")\n",
    "\n",
    "conn.close()\n",
    "print(\"All done.\")\n"
   ]
  },
  {
   "cell_type": "code",
   "execution_count": 9,
   "metadata": {},
   "outputs": [
    {
     "name": "stdout",
     "output_type": "stream",
     "text": [
      "station_statuses loaded into indego!\n"
     ]
    }
   ],
   "source": [
    "import geopandas as gpd\n",
    "from sqlalchemy import create_engine, text\n",
    "from geoalchemy2 import Geography\n",
    "\n",
    "# — read GeoJSON via Fiona instead of Pyogrio —\n",
    "gdf = gpd.read_file(\n",
    "    \"../data/station_status.geojson\",\n",
    "    engine=\"fiona\"\n",
    ")\n",
    "\n",
    "# rename geometry column to \"geog\"\n",
    "gdf = gdf.set_geometry(\"geometry\").rename_geometry(\"geog\")\n",
    "\n",
    "# build your connection string dynamically (from env‐vars or dict)\n",
    "import os\n",
    "DB = {\n",
    "    \"user\":     os.getenv(\"DB_USER\",     \"postgres\"),\n",
    "    \"password\": os.getenv(\"DB_PASSWORD\", \"cfcf133201\"),\n",
    "    \"host\":     os.getenv(\"DB_HOST\",     \"localhost\"),\n",
    "    \"port\":     os.getenv(\"DB_PORT\",     \"5432\"),\n",
    "    \"database\": os.getenv(\"DB_NAME\",     \"indego\"),\n",
    "}\n",
    "conn_str = (\n",
    "    f\"postgresql+psycopg2://\"\n",
    "    f\"{DB['user']}:{DB['password']}@\"\n",
    "    f\"{DB['host']}:{DB['port']}/{DB['database']}\"\n",
    ")\n",
    "engine = create_engine(conn_str)\n",
    "\n",
    "# ensure PostGIS + schema\n",
    "with engine.begin() as conn:\n",
    "    conn.execute(text(\"CREATE EXTENSION IF NOT EXISTS postgis;\"))\n",
    "    conn.execute(text(\"CREATE SCHEMA IF NOT EXISTS indego;\"))\n",
    "\n",
    "# push to PostGIS\n",
    "gdf.to_postgis(\n",
    "    name=\"station_statuses\",\n",
    "    con=engine,\n",
    "    schema=\"indego\",\n",
    "    if_exists=\"replace\",\n",
    "    index=False,\n",
    "    dtype={\"geog\": Geography(\"POINT\", srid=4326)}\n",
    ")\n",
    "\n",
    "print(\"station_statuses loaded into indego!\")\n"
   ]
  }
 ],
 "metadata": {
  "kernelspec": {
   "display_name": "ai4urban",
   "language": "python",
   "name": "python3"
  },
  "language_info": {
   "codemirror_mode": {
    "name": "ipython",
    "version": 3
   },
   "file_extension": ".py",
   "mimetype": "text/x-python",
   "name": "python",
   "nbconvert_exporter": "python",
   "pygments_lexer": "ipython3",
   "version": "3.10.16"
  }
 },
 "nbformat": 4,
 "nbformat_minor": 2
}
